{
  "nbformat": 4,
  "nbformat_minor": 0,
  "metadata": {
    "colab": {
      "private_outputs": true,
      "provenance": [],
      "gpuType": "T4"
    },
    "kernelspec": {
      "name": "python3",
      "display_name": "Python 3"
    },
    "language_info": {
      "name": "python"
    },
    "accelerator": "GPU"
  },
  "cells": [
    {
      "cell_type": "code",
      "execution_count": null,
      "metadata": {
        "id": "epOI1A3-RKtM"
      },
      "outputs": [],
      "source": [
        "!pip install lightgbm imbalanced-learn shap --quiet\n"
      ]
    },
    {
      "cell_type": "code",
      "source": [
        "import pandas as pd\n",
        "import numpy as np\n",
        "import lightgbm as lgb\n",
        "from sklearn.svm import SVC\n",
        "from sklearn.model_selection import train_test_split\n",
        "from sklearn.preprocessing import LabelEncoder\n",
        "from sklearn.metrics import classification_report, confusion_matrix\n",
        "from imblearn.over_sampling import SMOTE\n",
        "import shap\n",
        "import matplotlib.pyplot as plt\n",
        "import seaborn as sns\n"
      ],
      "metadata": {
        "id": "hXMsQ1vUSnHV"
      },
      "execution_count": null,
      "outputs": []
    },
    {
      "cell_type": "code",
      "source": [
        "df=pd.read_csv(\"accepted_2007_to_2018Q4.csv\")\n",
        "df=pd.read_csv(\"rejected_2007_to_2018Q4.csv\")"
      ],
      "metadata": {
        "id": "OnCzUPRbSqnm"
      },
      "execution_count": null,
      "outputs": []
    },
    {
      "cell_type": "code",
      "source": [
        "# Keep only necessary columns\n",
        "columns_to_keep = ['loan_amnt', 'term', 'int_rate', 'grade', 'emp_length', 'home_ownership',\n",
        "                   'annual_inc', 'purpose', 'addr_state', 'dti', 'delinq_2yrs', 'revol_util',\n",
        "                   'total_acc', 'loan_status']\n",
        "df = df[\"columns_to_keep\"]\n",
        "\n",
        "# Drop rows with nulls\n",
        "df.dropna(inplace=True)\n",
        "\n",
        "# Convert loan_status to binary\n",
        "df['loan_status'] = df['loan_status'].apply(lambda x: 1 if x in ['Charged Off', 'Default', 'Late (31-120 days)'] else 0)\n",
        "\n",
        "# Encode categorical columns\n",
        "cat_cols = df.select_dtypes(include='object').columns\n",
        "for col in cat_cols:\n",
        "    df[col] = LabelEncoder().fit_transform(df[col])\n",
        "\n",
        "print(\"Preprocessed shape:\", df.shape)\n"
      ],
      "metadata": {
        "id": "QsqJ7tLPS0Ni"
      },
      "execution_count": null,
      "outputs": []
    },
    {
      "source": [
        "# Keep only necessary columns\n",
        "columns_to_keep = ['loan_amnt', 'term', 'int_rate', 'grade', 'emp_length', 'home_ownership',\n",
        "                   'annual_inc', 'purpose', 'addr_state', 'dti', 'delinq_2yrs', 'revol_util',\n",
        "                   'total_acc', 'loan_status']\n",
        "df = df['columns_to_keep'] # Use square brackets to select multiple columns using a list\n",
        "\n",
        "# Drop rows with nulls\n",
        "df.dropna(inplace=True)\n",
        "\n",
        "# Convert loan_status to binary\n",
        "df['loan_status'] = df['loan_status'].apply(lambda x: 1 if x in ['Charged Off', 'Default', 'Late (31-120 days)'] else 0)\n",
        "\n",
        "# Encode categorical columns\n",
        "cat_cols = df.select_dtypes(include='object').columns\n",
        "for col in cat_cols:\n",
        "    df[col] = LabelEncoder().fit_transform(df[col])\n",
        "\n",
        "print(\"Preprocessed shape:\", df.shape)"
      ],
      "cell_type": "code",
      "metadata": {
        "id": "jibeseIaV76x"
      },
      "execution_count": null,
      "outputs": []
    },
    {
      "source": [
        "# Keep only necessary columns\n",
        "columns_to_keep = ['loan_amnt', 'term', 'int_rate', 'grade', 'emp_length', 'home_ownership',\n",
        "                   'annual_inc', 'purpose', 'addr_state', 'dti', 'delinq_2yrs', 'revol_util',\n",
        "                   'total_acc', 'loan_status']\n",
        "df = df[columns_to_keep] # Use double square brackets to select multiple columns using a list\n",
        "\n",
        "# Drop rows with nulls\n",
        "df.dropna(inplace=True)\n",
        "\n",
        "# Convert loan_status to binary\n",
        "df['loan_status'] = df['loan_status'].apply(lambda x: 1 if x in ['Charged Off', 'Default', 'Late (31-120 days)'] else 0)\n",
        "\n",
        "# Encode categorical columns\n",
        "cat_cols = df.select_dtypes(include='object').columns\n",
        "for col in cat_cols:\n",
        "    df[col] = LabelEncoder().fit_transform(df[col])\n",
        "\n",
        "print(\"Preprocessed shape:\", df.shape)"
      ],
      "cell_type": "code",
      "metadata": {
        "id": "_N-8s1-KWfBR"
      },
      "execution_count": null,
      "outputs": []
    },
    {
      "cell_type": "code",
      "source": [
        "X = df.drop('loan_status', axis=1)\n",
        "y = df['loan_status']\n",
        "\n",
        "X_train, X_test, y_train, y_test = train_test_split(X, y, test_size=0.2, random_state=42, stratify=y)\n",
        "\n",
        "# Apply SMOTE\n",
        "smote = SMOTE(random_state=42)\n",
        "X_train_res, y_train_res = smote.fit_resample(X_train, y_train)\n"
      ],
      "metadata": {
        "id": "mvEKeA2fS5o7"
      },
      "execution_count": null,
      "outputs": []
    },
    {
      "cell_type": "code",
      "source": [
        "model_lgb = lgb.LGBMClassifier()\n",
        "model_lgb.fit(X_train_res, y_train_res)\n",
        "\n",
        "y_pred_lgb = model_lgb.predict(X_test)\n"
      ],
      "metadata": {
        "id": "ougCKKvFS-qI"
      },
      "execution_count": null,
      "outputs": []
    },
    {
      "cell_type": "code",
      "source": [
        "model_svm = SVC(probability=True)\n",
        "model_svm.fit(X_train_res, y_train_res)\n",
        "\n",
        "y_pred_svm = model_svm.predict(X_test)\n"
      ],
      "metadata": {
        "id": "-BJDoWRkTHTv"
      },
      "execution_count": null,
      "outputs": []
    },
    {
      "cell_type": "code",
      "source": [
        "print(\"🔸 LightGBM Results\")\n",
        "print(confusion_matrix(y_test, y_pred_lgb))\n",
        "print(classification_report(y_test, y_pred_lgb))\n",
        "\n",
        "print(\"🔸 SVM Results\")\n",
        "print(confusion_matrix(y_test, y_pred_svm))\n",
        "print(classification_report(y_test, y_pred_svm))\n"
      ],
      "metadata": {
        "id": "Tf5s3iWtTL-c"
      },
      "execution_count": null,
      "outputs": []
    },
    {
      "cell_type": "code",
      "source": [
        "lgb.plot_importance(model_lgb, max_num_features=10)\n",
        "plt.title(\"Top 10 Feature Importances (LightGBM)\")\n",
        "plt.show()\n"
      ],
      "metadata": {
        "id": "DfU5-RZtTPFg"
      },
      "execution_count": null,
      "outputs": []
    },
    {
      "cell_type": "code",
      "source": [
        "explainer = shap.TreeExplainer(model_lgb)\n",
        "shap_values = explainer.shap_values(X_test)\n",
        "\n",
        "shap.summary_plot(shap_values, X_test, plot_type=\"bar\")\n"
      ],
      "metadata": {
        "id": "51DeHFt3TSz3"
      },
      "execution_count": null,
      "outputs": []
    }
  ]
}